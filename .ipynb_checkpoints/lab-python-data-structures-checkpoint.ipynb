{
 "cells": [
  {
   "cell_type": "markdown",
   "metadata": {
    "tags": []
   },
   "source": [
    "# Lab | Data Structures "
   ]
  },
  {
   "cell_type": "markdown",
   "metadata": {},
   "source": [
    "## Exercise: Managing Customer Orders\n",
    "\n",
    "As part of a business venture, you are starting an online store that sells various products. To ensure smooth operations, you need to develop a program that manages customer orders and inventory.\n",
    "\n",
    "Follow the steps below to complete the exercise:\n",
    "\n",
    "1. Define a list called `products` that contains the following items: \"t-shirt\", \"mug\", \"hat\", \"book\", \"keychain\".\n",
    "\n",
    "2. Create an empty dictionary called `inventory`.\n",
    "\n",
    "3. Ask the user to input the quantity of each product available in the inventory. Use the product names from the `products` list as keys in the `inventory` dictionary and assign the respective quantities as values.\n",
    "\n",
    "4. Create an empty set called `customer_orders`.\n",
    "\n",
    "5. Ask the user to input the name of three products that a customer wants to order (from those in the products list, meaning three products out of \"t-shirt\", \"mug\", \"hat\", \"book\" or \"keychain\". Add each product name to the `customer_orders` set.\n",
    "\n",
    "6. Print the products in the `customer_orders` set.\n",
    "\n",
    "7. Calculate the following order statistics:\n",
    "   - Total Products Ordered: The total number of products in the `customer_orders` set.\n",
    "   - Percentage of Products Ordered: The percentage of products ordered compared to the total available products.\n",
    "   \n",
    "   Store these statistics in a tuple called `order_status`.\n",
    "\n",
    "8. Print the order statistics using the following format:\n",
    "   ```\n",
    "   Order Statistics:\n",
    "   Total Products Ordered: <total_products_ordered>\n",
    "   Percentage of Products Ordered: <percentage_ordered>% \n",
    "   ```\n",
    "\n",
    "9. Update the inventory by subtracting 1 from the quantity of each product. Modify the `inventory` dictionary accordingly.\n",
    "\n",
    "10. Print the updated inventory, displaying the quantity of each product on separate lines.\n",
    "\n",
    "Solve the exercise by implementing the steps using the Python concepts of lists, dictionaries, sets, and basic input/output operations. "
   ]
  },
  {
   "cell_type": "code",
   "execution_count": 2,
   "metadata": {},
   "outputs": [],
   "source": [
    "products = [\"t-shirt\", \"mug\", \"hat\", \"book\", \"keychain\"]"
   ]
  },
  {
   "cell_type": "code",
   "execution_count": 3,
   "metadata": {},
   "outputs": [],
   "source": [
    "inventory = {}"
   ]
  },
  {
   "cell_type": "code",
   "execution_count": 48,
   "metadata": {},
   "outputs": [
    {
     "name": "stdout",
     "output_type": "stream",
     "text": [
      "\n",
      "\n",
      "\n",
      "t-shirt\n",
      "Please enter quantity of the product 1\n",
      "\n",
      "\n",
      "\n",
      "mug\n",
      "Please enter quantity of the product 2\n",
      "\n",
      "\n",
      "\n",
      "hat\n",
      "Please enter quantity of the product 3\n",
      "\n",
      "\n",
      "\n",
      "book\n",
      "Please enter quantity of the product 4\n",
      "\n",
      "\n",
      "\n",
      "keychain\n",
      "Please enter quantity of the product 5\n"
     ]
    }
   ],
   "source": [
    "for i in products:\n",
    "    print(\"\\n\\n\")\n",
    "    print(i)\n",
    "    x = input(\"Please enter quantity of the product \")\n",
    "    inventory[i] = int(x)"
   ]
  },
  {
   "cell_type": "code",
   "execution_count": 11,
   "metadata": {},
   "outputs": [
    {
     "name": "stdout",
     "output_type": "stream",
     "text": [
      "{'t-shirt': '1', 'mug': '2', 'hat': '4', 'book': '5', 'keychain': '6'}\n"
     ]
    }
   ],
   "source": [
    "print(inventory)"
   ]
  },
  {
   "cell_type": "code",
   "execution_count": 49,
   "metadata": {},
   "outputs": [
    {
     "name": "stdout",
     "output_type": "stream",
     "text": [
      "{'t-shirt': 1, 'mug': 2, 'hat': 3, 'book': 4, 'keychain': 5}\n",
      "\n",
      "Please enter a product you would like to purchase: t-shirt\n",
      "Added\n",
      "\n",
      "Please enter a product you would like to purchase: mug\n",
      "Added\n",
      "\n",
      "Please enter a product you would like to purchase: sad\n",
      "No such a product\n",
      "\n",
      " Following products were ordered:\n",
      "\n",
      " mug\n",
      "\n",
      " t-shirt\n"
     ]
    }
   ],
   "source": [
    "print(inventory)\n",
    "customer_orders = set()\n",
    "for i in range (0,3):\n",
    "    x = input(\"\\nPlease enter a product you would like to purchase: \")\n",
    "    if x in inventory:\n",
    "        customer_orders.add(x)\n",
    "        print (\"Added\")\n",
    "    else:\n",
    "        print (\"No such a product\") \n",
    "\n",
    "print (\"\\n Following products were ordered:\")\n",
    "for i in customer_orders:    \n",
    "    print (\"\\n\", i)"
   ]
  },
  {
   "cell_type": "code",
   "execution_count": 25,
   "metadata": {},
   "outputs": [
    {
     "name": "stdout",
     "output_type": "stream",
     "text": [
      "Total Products Ordered: 1\n",
      "Percentage of Products Ordered:  0.2\n"
     ]
    }
   ],
   "source": [
    "total = len(customer_orders)\n",
    "percent = len(customer_orders)/len(inventory)\n",
    "print(\"Total Products Ordered:\", total)\n",
    "print(\"Percentage of Products Ordered: \", percent)\n"
   ]
  },
  {
   "cell_type": "code",
   "execution_count": 27,
   "metadata": {},
   "outputs": [
    {
     "name": "stdout",
     "output_type": "stream",
     "text": [
      "(1, 0.2)\n"
     ]
    }
   ],
   "source": [
    "order_status=(total,percent)\n",
    "print(order_status)"
   ]
  },
  {
   "cell_type": "code",
   "execution_count": 30,
   "metadata": {},
   "outputs": [
    {
     "name": "stdout",
     "output_type": "stream",
     "text": [
      "Order Statistics: \n",
      "\n",
      "Total Products Ordered: 1\n",
      "\n",
      "Percentage of Products Ordered:  0.2 %\n"
     ]
    }
   ],
   "source": [
    "print(\"Order Statistics: \")\n",
    "print(\"\\nTotal Products Ordered:\", order_status[0])\n",
    "print(\"\\nPercentage of Products Ordered: \", order_status[1], \"%\")"
   ]
  },
  {
   "cell_type": "code",
   "execution_count": 52,
   "metadata": {},
   "outputs": [
    {
     "name": "stdout",
     "output_type": "stream",
     "text": [
      "Inventory before modification: {'t-shirt': 0, 'mug': 1, 'hat': 3, 'book': 4, 'keychain': 5}\n",
      "\n",
      "Updated inventory:\n",
      "t-shirt  -  0\n",
      "mug  -  0\n",
      "hat  -  3\n",
      "book  -  4\n",
      "keychain  -  5\n"
     ]
    }
   ],
   "source": [
    "print(\"Inventory before modification:\", inventory)\n",
    "\n",
    "print(\"\\nUpdated inventory:\")\n",
    "\n",
    "for i in inventory:\n",
    "    if inventory[i] > 0 and (i in customer_orders):\n",
    "        inventory[i] =  inventory[i]-1\n",
    "    print(i,\" - \", inventory[i])"
   ]
  }
 ],
 "metadata": {
  "kernelspec": {
   "display_name": "Python 3 (ipykernel)",
   "language": "python",
   "name": "python3"
  },
  "language_info": {
   "codemirror_mode": {
    "name": "ipython",
    "version": 3
   },
   "file_extension": ".py",
   "mimetype": "text/x-python",
   "name": "python",
   "nbconvert_exporter": "python",
   "pygments_lexer": "ipython3",
   "version": "3.11.5"
  }
 },
 "nbformat": 4,
 "nbformat_minor": 4
}
